{
 "cells": [
  {
   "cell_type": "markdown",
   "metadata": {},
   "source": [
    "### Quality Check using GPT-4o-mini"
   ]
  },
  {
   "cell_type": "code",
   "execution_count": 1,
   "metadata": {},
   "outputs": [],
   "source": [
    "import os\n",
    "from openai import OpenAI\n",
    "from utils.utils import write_jsonl, read_problems\n",
    "\n",
    "\n",
    "def make_gpt_chat_messsage(role, content):\n",
    "    return {'role': role, 'content': content}\n",
    "\n",
    "def make_prompt(a, b):\n",
    "    return f'''\\\n",
    "### Instruction\n",
    "Given a docstring of Python function written in English and its Korean translation, please rate how well the translation conveys the original meaning using an integer between 1 and 3 (with 3 being the best). No explanation is necessary; just provide a rating between 1 and 3.\n",
    "\n",
    "### English docstring\n",
    "{a}\n",
    "\n",
    "### translated Korean docstring\n",
    "{b}\n",
    "\n",
    "### Rating\n",
    "'''\n",
    "\n",
    "\n",
    "he = read_problems('HumanEval')\n",
    "he_kr = read_problems('KR_HumanEval')\n",
    "\n",
    "client = OpenAI(api_key=os.environ.get('OPENAI_API_KEY'))\n",
    "\n",
    "save_path = os.path.join(None) # assign!\n",
    "        \n",
    "for k1, k2 in zip(he, he_kr):\n",
    "    original_prompt = he[k1]['prompt']\n",
    "    translated_prompt = he_kr[k2]['prompt']\n",
    "    \n",
    "    messages = []\n",
    "    messages.append(make_gpt_chat_messsage('system', 'You are a helpful AI assistant.'))\n",
    "    messages.append(make_gpt_chat_messsage('user', make_prompt(original_prompt, translated_prompt)))\n",
    "    \n",
    "    completion = client.chat.completions.create(\n",
    "        model='gpt-4o-mini',\n",
    "        messages=messages,\n",
    "        n=1,\n",
    "        max_tokens=32,\n",
    "    )\n",
    "    response = completion.choices[0].message.content\n",
    "    \n",
    "    # print('original prompt:')\n",
    "    # print(original_prompt)\n",
    "    # print('translated prompt:')\n",
    "    # print(translated_prompt)\n",
    "    # print(f'rate: {response}')\n",
    "    # print('-' * 100)\n",
    "    \n",
    "    # add a score\n",
    "    he_kr[k2]['translation_score'] = response\n",
    "    result = []\n",
    "    result.append(he_kr[k2])\n",
    "\n",
    "    write_jsonl(save_path, result, append=True)"
   ]
  }
 ],
 "metadata": {
  "kernelspec": {
   "display_name": "cg",
   "language": "python",
   "name": "python3"
  },
  "language_info": {
   "codemirror_mode": {
    "name": "ipython",
    "version": 3
   },
   "file_extension": ".py",
   "mimetype": "text/x-python",
   "name": "python",
   "nbconvert_exporter": "python",
   "pygments_lexer": "ipython3",
   "version": "3.9.19"
  }
 },
 "nbformat": 4,
 "nbformat_minor": 2
}
